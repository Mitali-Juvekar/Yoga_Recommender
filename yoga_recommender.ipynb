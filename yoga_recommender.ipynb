{
 "cells": [
  {
   "cell_type": "code",
   "execution_count": 1,
   "id": "2186f848",
   "metadata": {},
   "outputs": [],
   "source": [
    "import pandas as pd\n",
    "import numpy as np"
   ]
  },
  {
   "cell_type": "code",
   "execution_count": 2,
   "id": "f15635d6",
   "metadata": {},
   "outputs": [],
   "source": [
    "df = pd.read_csv(\"C:/Users/mital/Documents/Python proj/yoga.csv\")"
   ]
  },
  {
   "cell_type": "code",
   "execution_count": 3,
   "id": "22d4f290",
   "metadata": {},
   "outputs": [
    {
     "data": {
      "text/html": [
       "<div>\n",
       "<style scoped>\n",
       "    .dataframe tbody tr th:only-of-type {\n",
       "        vertical-align: middle;\n",
       "    }\n",
       "\n",
       "    .dataframe tbody tr th {\n",
       "        vertical-align: top;\n",
       "    }\n",
       "\n",
       "    .dataframe thead th {\n",
       "        text-align: right;\n",
       "    }\n",
       "</style>\n",
       "<table border=\"1\" class=\"dataframe\">\n",
       "  <thead>\n",
       "    <tr style=\"text-align: right;\">\n",
       "      <th></th>\n",
       "      <th>Asana</th>\n",
       "      <th>Benefits</th>\n",
       "    </tr>\n",
       "  </thead>\n",
       "  <tbody>\n",
       "    <tr>\n",
       "      <th>0</th>\n",
       "      <td>PADOTTHANASANA</td>\n",
       "      <td>This asana strengthens\\nthe abdominal muscles ...</td>\n",
       "    </tr>\n",
       "    <tr>\n",
       "      <th>1</th>\n",
       "      <td>PARVATASANA</td>\n",
       "      <td>This pose strengthens the nerves and muscles i...</td>\n",
       "    </tr>\n",
       "    <tr>\n",
       "      <th>2</th>\n",
       "      <td>ARDHA TITALI ASANA</td>\n",
       "      <td>This is an excellent \\npreparatory practice fo...</td>\n",
       "    </tr>\n",
       "    <tr>\n",
       "      <th>3</th>\n",
       "      <td>GATYATMAK MERU \\nVAKRASANA</td>\n",
       "      <td>This asana removes stiffness \\nof the back and...</td>\n",
       "    </tr>\n",
       "    <tr>\n",
       "      <th>4</th>\n",
       "      <td>SIDEWAYS VIEWING</td>\n",
       "      <td>Sideways viewing relaxes the \\ntension of the ...</td>\n",
       "    </tr>\n",
       "  </tbody>\n",
       "</table>\n",
       "</div>"
      ],
      "text/plain": [
       "                        Asana  \\\n",
       "0              PADOTTHANASANA   \n",
       "1                 PARVATASANA   \n",
       "2          ARDHA TITALI ASANA   \n",
       "3  GATYATMAK MERU \\nVAKRASANA   \n",
       "4            SIDEWAYS VIEWING   \n",
       "\n",
       "                                            Benefits  \n",
       "0  This asana strengthens\\nthe abdominal muscles ...  \n",
       "1  This pose strengthens the nerves and muscles i...  \n",
       "2  This is an excellent \\npreparatory practice fo...  \n",
       "3  This asana removes stiffness \\nof the back and...  \n",
       "4  Sideways viewing relaxes the \\ntension of the ...  "
      ]
     },
     "execution_count": 3,
     "metadata": {},
     "output_type": "execute_result"
    }
   ],
   "source": [
    "df.head()"
   ]
  },
  {
   "cell_type": "code",
   "execution_count": 4,
   "id": "eb7fc0f2",
   "metadata": {},
   "outputs": [
    {
     "data": {
      "text/plain": [
       "(326, 2)"
      ]
     },
     "execution_count": 4,
     "metadata": {},
     "output_type": "execute_result"
    }
   ],
   "source": [
    "df.shape"
   ]
  },
  {
   "cell_type": "code",
   "execution_count": 6,
   "id": "796bdf73",
   "metadata": {},
   "outputs": [
    {
     "data": {
      "text/plain": [
       "0      This asana strengthens\\nthe abdominal muscles ...\n",
       "1      This pose strengthens the nerves and muscles i...\n",
       "2      This is an excellent \\npreparatory practice fo...\n",
       "3      This asana removes stiffness \\nof the back and...\n",
       "4      Sideways viewing relaxes the \\ntension of the ...\n",
       "                             ...                        \n",
       "321    1. Helps in stretching legs, hamstrings, arms,...\n",
       "322    It relieves the pain of hands and feet( It is ...\n",
       "323    1. This asana provides a deep muscular massage...\n",
       "324    1. Bhunamanasana stretches and improves the fl...\n",
       "325    1) Stretches, Strengthens and Lengthens: Manda...\n",
       "Name: Benefits, Length: 326, dtype: object"
      ]
     },
     "execution_count": 6,
     "metadata": {},
     "output_type": "execute_result"
    }
   ],
   "source": [
    "df['Benefits']"
   ]
  },
  {
   "cell_type": "code",
   "execution_count": 10,
   "id": "2b662797",
   "metadata": {},
   "outputs": [],
   "source": [
    "from sklearn.feature_extraction.text import TfidfVectorizer\n",
    "from sklearn.metrics.pairwise import linear_kernel"
   ]
  },
  {
   "cell_type": "code",
   "execution_count": 9,
   "id": "7a1d041a",
   "metadata": {},
   "outputs": [],
   "source": [
    "tfidf = TfidfVectorizer(stop_words=\"english\")\n",
    "df['Benefits'] = df['Benefits'].fillna(\"\")\n",
    "tfidf_matrix = tfidf.fit_transform(df['Benefits'])"
   ]
  },
  {
   "cell_type": "code",
   "execution_count": 11,
   "id": "de6a6454",
   "metadata": {},
   "outputs": [],
   "source": [
    "cosine_sin = linear_kernel(tfidf_matrix, tfidf_matrix)"
   ]
  },
  {
   "cell_type": "code",
   "execution_count": 12,
   "id": "20fafeee",
   "metadata": {},
   "outputs": [
    {
     "data": {
      "text/plain": [
       "0                  PADOTTHANASANA\n",
       "1                     PARVATASANA\n",
       "2              ARDHA TITALI ASANA\n",
       "3      GATYATMAK MERU \\nVAKRASANA\n",
       "4                SIDEWAYS VIEWING\n",
       "                  ...            \n",
       "321                    kapilasana\n",
       "322                    omkarasana\n",
       "323                 kashyapawsana\n",
       "324                 bhunamanasana\n",
       "325                   Mandalasana\n",
       "Name: Asana, Length: 326, dtype: object"
      ]
     },
     "execution_count": 12,
     "metadata": {},
     "output_type": "execute_result"
    }
   ],
   "source": [
    "df['Asana']"
   ]
  },
  {
   "cell_type": "code",
   "execution_count": 18,
   "id": "8b4b4fc9",
   "metadata": {},
   "outputs": [
    {
     "data": {
      "text/plain": [
       "Asana\n",
       "PADOTTHANASANA                  0\n",
       "PARVATASANA                     1\n",
       "ARDHA TITALI ASANA              2\n",
       "GATYATMAK MERU \\nVAKRASANA      3\n",
       "SIDEWAYS VIEWING                4\n",
       "                             ... \n",
       "kapilasana                    321\n",
       "omkarasana                    322\n",
       "kashyapawsana                 323\n",
       "bhunamanasana                 324\n",
       "Mandalasana                   325\n",
       "Length: 326, dtype: int64"
      ]
     },
     "execution_count": 18,
     "metadata": {},
     "output_type": "execute_result"
    }
   ],
   "source": [
    "indices = pd.Series(df.index,index = df[\"Asana\"]).drop_duplicates()\n",
    "indices"
   ]
  },
  {
   "cell_type": "code",
   "execution_count": 19,
   "id": "509a7fe6",
   "metadata": {},
   "outputs": [
    {
     "data": {
      "text/plain": [
       "4"
      ]
     },
     "execution_count": 19,
     "metadata": {},
     "output_type": "execute_result"
    }
   ],
   "source": [
    "indices['SIDEWAYS VIEWING']"
   ]
  },
  {
   "cell_type": "code",
   "execution_count": 24,
   "id": "97da23bb",
   "metadata": {},
   "outputs": [],
   "source": [
    "def recommendations(asana, cosine_sin = cosine_sin):\n",
    "    index = indices[asana]\n",
    "    sin_scores = enumerate(cosine_sin[index])\n",
    "    sin_scores = sorted(sin_scores, key=lambda x: x[1], reverse=True)\n",
    "    sin_scores = sin_scores[1:4]\n",
    "    sin_index = [i[0] for i in sin_scores]\n",
    "    print(df['Asana'].iloc[sin_index])\n",
    "        \n",
    "# recommendations('SIDEWAYS VIEWING')"
   ]
  },
  {
   "cell_type": "code",
   "execution_count": 25,
   "id": "766fd3f5",
   "metadata": {},
   "outputs": [
    {
     "name": "stdout",
     "output_type": "stream",
     "text": [
      "54    FRONT AND SIDEWAYS VIEWING\n",
      "55           UP AND DOWN VIEWING\n",
      "41             GREEVA SANCHALANA\n",
      "Name: Asana, dtype: object\n"
     ]
    }
   ],
   "source": [
    "recommendations('SIDEWAYS VIEWING')"
   ]
  },
  {
   "cell_type": "code",
   "execution_count": 27,
   "id": "2d45f902",
   "metadata": {},
   "outputs": [
    {
     "name": "stdout",
     "output_type": "stream",
     "text": [
      "SymptomSIDEWAYS VIEWING\n",
      "54    FRONT AND SIDEWAYS VIEWING\n",
      "55           UP AND DOWN VIEWING\n",
      "41             GREEVA SANCHALANA\n",
      "Name: Asana, dtype: object\n"
     ]
    }
   ],
   "source": [
    "recommendations(input(\"Symptom\"))"
   ]
  },
  {
   "cell_type": "code",
   "execution_count": null,
   "id": "5e366e59",
   "metadata": {},
   "outputs": [],
   "source": []
  },
  {
   "cell_type": "code",
   "execution_count": null,
   "id": "fff2eb5f",
   "metadata": {},
   "outputs": [],
   "source": []
  }
 ],
 "metadata": {
  "kernelspec": {
   "display_name": "Python 3",
   "language": "python",
   "name": "python3"
  },
  "language_info": {
   "codemirror_mode": {
    "name": "ipython",
    "version": 3
   },
   "file_extension": ".py",
   "mimetype": "text/x-python",
   "name": "python",
   "nbconvert_exporter": "python",
   "pygments_lexer": "ipython3",
   "version": "3.9.4"
  }
 },
 "nbformat": 4,
 "nbformat_minor": 5
}
